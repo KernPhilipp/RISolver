{
 "cells": [
  {
   "cell_type": "code",
   "execution_count": 1,
   "id": "b4981aff",
   "metadata": {},
   "outputs": [],
   "source": [
    "import os\n",
    "import math\n",
    "import requests\n",
    "import faiss\n",
    "import concurrent.futures\n",
    "import re\n",
    "import time"
   ]
  },
  {
   "cell_type": "code",
   "execution_count": 2,
   "id": "359b375e",
   "metadata": {},
   "outputs": [],
   "source": [
    "from datetime import date\n",
    "from bs4 import BeautifulSoup\n",
    "from urllib.parse import urljoin"
   ]
  },
  {
   "cell_type": "code",
   "execution_count": 3,
   "id": "e4dad3ca",
   "metadata": {},
   "outputs": [
    {
     "name": "stdout",
     "output_type": "stream",
     "text": [
      "Alle Bibliotheken importiert und bereit.\n"
     ]
    }
   ],
   "source": [
    "from langchain.text_splitter import RecursiveCharacterTextSplitter\n",
    "from langchain.text_splitter import CharacterTextSplitter\n",
    "from langchain.document_loaders import PyPDFLoader\n",
    "from langchain_ollama.embeddings import OllamaEmbeddings\n",
    "from langchain_ollama.llms import OllamaLLM\n",
    "from langchain.vectorstores import FAISS\n",
    "from langchain.schema import Document\n",
    "from langchain.prompts import PromptTemplate\n",
    "from langchain.chains import RetrievalQA\n",
    "print(\"Alle Bibliotheken importiert und bereit.\")"
   ]
  },
  {
   "cell_type": "code",
   "execution_count": 4,
   "id": "af13d3f3-b0d6-4bc0-bd6b-0491f0753e14",
   "metadata": {},
   "outputs": [
    {
     "name": "stdout",
     "output_type": "stream",
     "text": [
      "Konfiguration gesetzt: EMBEDDING_MODEL = nomic-embed-text:latest, LLM_MODEL = gemma3:1b, INDEX_PATH = 'faiss_index.faiss', API_URL = https://data.bka.gv.at/ris/api/v2.6/Landesrecht\n"
     ]
    }
   ],
   "source": [
    "EMBEDDING_MODEL = \"nomic-embed-text:latest\"\n",
    "LLM_MODEL = \"gemma3:1b\"\n",
    "INDEX_PATH = \"faiss_index.faiss\"\n",
    "API_URL = \"https://data.bka.gv.at/ris/api/v2.6/Landesrecht\"\n",
    "print(f\"Konfiguration gesetzt: EMBEDDING_MODEL = {EMBEDDING_MODEL}, LLM_MODEL = {LLM_MODEL}, INDEX_PATH = '{INDEX_PATH}', API_URL = {API_URL}\")"
   ]
  },
  {
   "cell_type": "code",
   "execution_count": 5,
   "id": "8ab25a57-04e3-4e16-a4c0-17217b0be6f7",
   "metadata": {},
   "outputs": [
    {
     "name": "stdout",
     "output_type": "stream",
     "text": [
      "Embeddings- und LLM-Objekte erstellt. Aktuelle Session wurde aufgerufen.\n"
     ]
    }
   ],
   "source": [
    "embeddings = OllamaEmbeddings(model=EMBEDDING_MODEL)\n",
    "llm = OllamaLLM(model=LLM_MODEL)\n",
    "session = requests.Session()\n",
    "print(\"Embeddings- und LLM-Objekte erstellt. Aktuelle Session wurde aufgerufen.\")"
   ]
  },
  {
   "cell_type": "code",
   "execution_count": 6,
   "id": "67f33fb6-deb7-40b4-8539-f41ccd8a8e73",
   "metadata": {},
   "outputs": [],
   "source": [
    "def extract_pdf_url(ref) -> str | None:\n",
    "    lrKons = (\n",
    "        ref.get(\"Data\", {})\n",
    "           .get(\"Metadaten\", {})\n",
    "           .get(\"Landesrecht\", {})\n",
    "           .get(\"LrKons\", {})\n",
    "    )\n",
    "    html_url = lrKons.get(\"GesamteRechtsvorschriftUrl\")\n",
    "    if not html_url:\n",
    "        return None\n",
    "    try:\n",
    "        resp = session.get(html_url, timeout=60)\n",
    "        resp.raise_for_status()\n",
    "        soup = BeautifulSoup(resp.text, \"html.parser\")\n",
    "        \n",
    "        a_pdf = soup.find(\n",
    "            \"a\",\n",
    "            href=re.compile(r\"\\.pdf$\"),\n",
    "            title=lambda t: t and \"PDF-Dokument\" in t\n",
    "        )\n",
    "        if not a_pdf or not a_pdf.has_attr(\"href\"):\n",
    "            print(f\"PDF-Link nicht gefunden in {html_url}\")\n",
    "            return None\n",
    "\n",
    "        pdf_path = a_pdf[\"href\"]\n",
    "        pdf_url = urljoin(\"https://www.ris.bka.gv.at\", pdf_path)\n",
    "\n",
    "        return pdf_url\n",
    "        \n",
    "    except Exception as e:\n",
    "        print(f\"Fehler beim Extrahieren der PDF-URL von {html_url}: {e}\")\n",
    "        return None"
   ]
  },
  {
   "cell_type": "code",
   "execution_count": 7,
   "id": "0ed545d9-e34b-41fd-9313-f8621879ef97",
   "metadata": {},
   "outputs": [],
   "source": [
    "def load_pdf_pages(pdf_url: str) -> list[tuple[str, str]]:\n",
    "    try:\n",
    "        loader = PyPDFLoader(pdf_url)\n",
    "        docs = loader.load()\n",
    "        print(f\"{len(docs)} Seiten geladen von {pdf_url}\")\n",
    "        return [(pdf_url, doc.page_content) for doc in docs]\n",
    "    except Exception as e:\n",
    "        print(f\"Fehler beim Laden von {pdf_url}: {e}\")\n",
    "        return []"
   ]
  },
  {
   "cell_type": "code",
   "execution_count": 8,
   "id": "b497e502",
   "metadata": {},
   "outputs": [],
   "source": [
    "heute  = date.today().isoformat()\n",
    "params = {\n",
    "    \"Applikation\": \"LrKons\",\n",
    "    \"Bundesland_SucheInSalzburg\": \"true\",\n",
    "    \"Sortierung_SortDirection\": \"Descending\",\n",
    "    \"DokumenteProSeite\": \"Ten\",\n",
    "    \"Fassung_FassungVom\": heute\n",
    "}\n",
    "resp = session.get(API_URL, params=params)\n",
    "resp.raise_for_status()\n",
    "data = resp.json()\n",
    "hits = int(data[\"OgdSearchResult\"][\"OgdDocumentResults\"][\"Hits\"][\"#text\"])\n",
    "page_size = int(data[\"OgdSearchResult\"][\"OgdDocumentResults\"][\"Hits\"][\"@pageSize\"])\n",
    "total = math.ceil(hits / page_size)"
   ]
  },
  {
   "cell_type": "code",
   "execution_count": 9,
   "id": "32c37d56-35d9-4495-8c82-e81bd893daf8",
   "metadata": {},
   "outputs": [
    {
     "name": "stdout",
     "output_type": "stream",
     "text": [
      "Insgesamt 10 Dokumentreferenzen geladen.\n"
     ]
    }
   ],
   "source": [
    "all_refs = []\n",
    "# for page in range(1, total+1):\n",
    "for page in range(1, 2):\n",
    "    params[\"Seitennummer\"] = page\n",
    "    resp = session.get(API_URL, params=params)\n",
    "    resp.raise_for_status()\n",
    "    docs = resp.json()[\"OgdSearchResult\"][\"OgdDocumentResults\"][\"OgdDocumentReference\"]\n",
    "    all_refs.extend(docs if isinstance(docs, list) else [docs])\n",
    "print(f\"Insgesamt {len(all_refs)} Dokumentreferenzen geladen.\")"
   ]
  },
  {
   "cell_type": "code",
   "execution_count": 10,
   "id": "e3339f55-55b9-46e6-881a-b26dcd3559c5",
   "metadata": {},
   "outputs": [
    {
     "name": "stdout",
     "output_type": "stream",
     "text": [
      "2 eindeutige PDF-URLs gefunden.\n"
     ]
    }
   ],
   "source": [
    "pdf_urls = set()\n",
    "for ref in all_refs:\n",
    "    url = extract_pdf_url(ref)\n",
    "    if url:\n",
    "        pdf_urls.add(url)\n",
    "print(f\"{len(pdf_urls)} eindeutige PDF-URLs gefunden.\")"
   ]
  },
  {
   "cell_type": "code",
   "execution_count": 11,
   "id": "70be9d8c-4ca3-46da-8d69-c3ae0a533a04",
   "metadata": {
    "scrolled": true
   },
   "outputs": [
    {
     "name": "stdout",
     "output_type": "stream",
     "text": [
      "1 Seiten geladen von https://www.ris.bka.gv.at/GeltendeFassung/LrSbg/20001469/Zweitwohnung-Beschr%c3%a4nkungsgemeinden-Verordnung%202024%2c%20Fassung%20vom%2018.06.2025.pdf\n",
      "7 Seiten geladen von https://www.ris.bka.gv.at/GeltendeFassung/LrSbg/20001389/%20ZWAG%2c%20Fassung%20vom%2018.06.2025.pdf\n",
      "Insgesamt 8 Seitenabschnitte aus PDFs extrahiert.\n"
     ]
    }
   ],
   "source": [
    "all_sections = []\n",
    "with concurrent.futures.ThreadPoolExecutor(max_workers=8) as pool:\n",
    "    futures = [pool.submit(load_pdf_pages, url) for url in pdf_urls]\n",
    "    for fut in concurrent.futures.as_completed(futures):\n",
    "        all_sections.extend(fut.result() or [])\n",
    "print(f\"Insgesamt {len(all_sections)} Seitenabschnitte aus PDFs extrahiert.\")"
   ]
  },
  {
   "cell_type": "code",
   "execution_count": 12,
   "id": "861a6515-833e-444d-8d1d-865ec1c161a0",
   "metadata": {},
   "outputs": [],
   "source": [
    "para_docs = []\n",
    "for url, text in all_sections:\n",
    "    cleaned = re.sub(r\"(\\w+)-\\n(\\w+)\", r\"\\1\\2\", text)\n",
    "    cleaned = re.sub(r\"(?<!\\n)\\n(?!\\n)\", \" \", cleaned)\n",
    "    for para in cleaned.split(\"\\n\\n\"):\n",
    "        if para.strip():\n",
    "            para_docs.append(Document(\n",
    "                page_content=f\"Quelle: {url}\\n{para.strip()}\",\n",
    "                metadata={\"source_url\": url}\n",
    "            ))"
   ]
  },
  {
   "cell_type": "code",
   "execution_count": 13,
   "id": "cb5756dc-1288-4e84-8f72-13f0e958950f",
   "metadata": {},
   "outputs": [
    {
     "name": "stdout",
     "output_type": "stream",
     "text": [
      "Insgesamt 8 Absatz-Chunks aus PDF extrahiert.\n"
     ]
    }
   ],
   "source": [
    "splitter = CharacterTextSplitter(\n",
    "    separator=\"\\n\\n\",\n",
    "    chunk_size=1200,\n",
    "    chunk_overlap=0\n",
    ")\n",
    "chunked_docs = splitter.split_documents(para_docs)\n",
    "print(f\"Insgesamt {len(chunked_docs)} Absatz-Chunks aus PDF extrahiert.\")"
   ]
  },
  {
   "cell_type": "code",
   "execution_count": 14,
   "id": "9d088282",
   "metadata": {},
   "outputs": [
    {
     "name": "stdout",
     "output_type": "stream",
     "text": [
      "\n",
      "--- Chunk 1/8 ---\n",
      "Quelle: https://www.ris.bka.gv.at/GeltendeFassung/LrSbg/20001469/Zweitwohnung-Beschr%c3%a4nkungsgemeinden-Verordnung%202024%2c%20Fassung%20vom%2018.06.2025.pdf\n",
      "Inhalt (erstes 500 Zeichen): Quelle: https://www.ris.bka.gv.at/GeltendeFassung/LrSbg/20001469/Zweitwohnung-Beschr%c3%a4nkungsgemeinden-Verordnung%202024%2c%20Fassung%20vom%2018.06.2025.pdf Landesrecht Salzburg  www.ris.bka.gv.at Seite 1 von 1  Gesamte Rechtsvorschrift für Zweitwohnung -Beschränkungsgemeinden-Verordnung  2024, Fassung vom 18.06.2025  Langtitel  Verordnung der Salzburger Landessregierung vom 27. Februar 2024, mit der die ZweitwohnungBeschränkungsgemeinden im Land Salzburg bestimmt werden (Zweitwohnung - Besch …\n",
      "Länge dieses Chunks: 2634 Zeichen\n",
      "--- Ende Chunk ---\n",
      "\n",
      "--- Chunk 2/8 ---\n",
      "Quelle: https://www.ris.bka.gv.at/GeltendeFassung/LrSbg/20001389/%20ZWAG%2c%20Fassung%20vom%2018.06.2025.pdf\n",
      "Inhalt (erstes 500 Zeichen): Quelle: https://www.ris.bka.gv.at/GeltendeFassung/LrSbg/20001389/%20ZWAG%2c%20Fassung%20vom%2018.06.2025.pdf Landesrecht Salzburg  www.ris.bka.gv.at Seite 1 von 7  Gesamte Rechtsvorschrift für Zweitwohnsitz - und Wohnungsleerstandsabgabengesetz,  Fassung vom 18.06.2025  Langtitel  Gesetz vom 6. Juli 2022 zur Erhebung von Kommunalabgaben für Zweitwohnsitze und  Wohnungsleerstände (Zweitwohnsitz- und Wohnungsleerstandsabgabengesetz – ZWAG)  StF: LGBl Nr 71/2022 (Blg LT 16. GP: RV 507, AB 550, jewe …\n",
      "Länge dieses Chunks: 1526 Zeichen\n",
      "--- Ende Chunk ---\n",
      "\n",
      "--- Chunk 3/8 ---\n",
      "Quelle: https://www.ris.bka.gv.at/GeltendeFassung/LrSbg/20001389/%20ZWAG%2c%20Fassung%20vom%2018.06.2025.pdf\n",
      "Inhalt (erstes 500 Zeichen): Quelle: https://www.ris.bka.gv.at/GeltendeFassung/LrSbg/20001389/%20ZWAG%2c%20Fassung%20vom%2018.06.2025.pdf Landesrecht Salzburg  www.ris.bka.gv.at Seite 2 von 7  Text  1. Abschnitt  Gemeinsame Bestimmungen  Ermächtigung zur Ausschreibung  § 1  Die Gemeinden werden ermächtigt, auf Grund eines Beschlusses der Gemeindevertretung (in der  Stadt Salzburg des Gemeinderats) als ausschließliche Gemeindeabgabe zu erheben:   1. eine Abgabe auf Zweitwohnsitze (Kommunalabgabe Zweitwohnsitz);   2. eine Abg …\n",
      "Länge dieses Chunks: 2909 Zeichen\n",
      "--- Ende Chunk ---\n",
      "\n",
      "--- Chunk 4/8 ---\n",
      "Quelle: https://www.ris.bka.gv.at/GeltendeFassung/LrSbg/20001389/%20ZWAG%2c%20Fassung%20vom%2018.06.2025.pdf\n",
      "Inhalt (erstes 500 Zeichen): Quelle: https://www.ris.bka.gv.at/GeltendeFassung/LrSbg/20001389/%20ZWAG%2c%20Fassung%20vom%2018.06.2025.pdf Landesrecht Salzburg  www.ris.bka.gv.at Seite 3 von 7  bis zur Meldung an die Gemeinde die Abgabenpflichtigen gemäß Abs  1 neben den Abgab enpflichtigen  gemäß Abs 2 zur ungeteilten Hand.  (4) Personen, die behaupten, mangels Vorliegen eines Zweitwohnsitzes oder wegen des Zutreffens  einer Ausnahme nicht abgabepflichtig zu sein, haben die Umstände, auf die sie ihre Behauptung stützen,  na …\n",
      "Länge dieses Chunks: 3675 Zeichen\n",
      "--- Ende Chunk ---\n",
      "\n",
      "--- Chunk 5/8 ---\n",
      "Quelle: https://www.ris.bka.gv.at/GeltendeFassung/LrSbg/20001389/%20ZWAG%2c%20Fassung%20vom%2018.06.2025.pdf\n",
      "Inhalt (erstes 500 Zeichen): Quelle: https://www.ris.bka.gv.at/GeltendeFassung/LrSbg/20001389/%20ZWAG%2c%20Fassung%20vom%2018.06.2025.pdf Landesrecht Salzburg  www.ris.bka.gv.at Seite 4 von 7  (5) Die Landesregierung ist ermächtigt, Form, Inhalt und Art der Übermittlung der  Abgabenerklärung durch Verordnung näher zu regeln.  3. Abschnitt  Kommunalabgabe Wohnungsleerstand  Gegenstand der Abgabe  § 9  Gegenstand der Abgabe sind Wohnungen im Sinn des §  2 Z 4 des Salzburger Bautechnikgesetzes,  bei denen nach den Daten des Ze …\n",
      "Länge dieses Chunks: 3348 Zeichen\n",
      "--- Ende Chunk ---\n",
      "\n",
      "--- Chunk 6/8 ---\n",
      "Quelle: https://www.ris.bka.gv.at/GeltendeFassung/LrSbg/20001389/%20ZWAG%2c%20Fassung%20vom%2018.06.2025.pdf\n",
      "Inhalt (erstes 500 Zeichen): Quelle: https://www.ris.bka.gv.at/GeltendeFassung/LrSbg/20001389/%20ZWAG%2c%20Fassung%20vom%2018.06.2025.pdf Landesrecht Salzburg  www.ris.bka.gv.at Seite 5 von 7  Höhe der Abgabe  § 13  (1) Der Abgabensatz ist durch Verordnung der Gemeindevertretung festzulegen. Dabei ist auf den  Verkehrswert der Liegenschaften in der Gemeinde Bedacht zu nehmen. Der Abgabensatz kann für  bestimmte Teile des Gemeindegebietes in unterschiedlicher Höhe festgesetzt werden, wenn sich die für  die Festsetzung maßgeb …\n",
      "Länge dieses Chunks: 3083 Zeichen\n",
      "--- Ende Chunk ---\n",
      "\n",
      "--- Chunk 7/8 ---\n",
      "Quelle: https://www.ris.bka.gv.at/GeltendeFassung/LrSbg/20001389/%20ZWAG%2c%20Fassung%20vom%2018.06.2025.pdf\n",
      "Inhalt (erstes 500 Zeichen): Quelle: https://www.ris.bka.gv.at/GeltendeFassung/LrSbg/20001389/%20ZWAG%2c%20Fassung%20vom%2018.06.2025.pdf Landesrecht Salzburg  www.ris.bka.gv.at Seite 6 von 7   d) grundstücks-, gebäude- und wohnungsbezogene Daten, verbrauchsbezogene Daten.  (3) Die nach Abs  1 Verantwortlichen dürfen personenbezogene Daten, die nach den Bestimmungen  dieses Gesetzes verarbeitet werden, auch in folgenden Verfahren verarbeiten:    1. in Verfahren betreffend Zweitwohnungen nach den bau -, raumordnungs - und  g …\n",
      "Länge dieses Chunks: 3406 Zeichen\n",
      "--- Ende Chunk ---\n",
      "\n",
      "--- Chunk 8/8 ---\n",
      "Quelle: https://www.ris.bka.gv.at/GeltendeFassung/LrSbg/20001389/%20ZWAG%2c%20Fassung%20vom%2018.06.2025.pdf\n",
      "Inhalt (erstes 500 Zeichen): Quelle: https://www.ris.bka.gv.at/GeltendeFassung/LrSbg/20001389/%20ZWAG%2c%20Fassung%20vom%2018.06.2025.pdf Landesrecht Salzburg  www.ris.bka.gv.at Seite 7 von 7  (2) Dieses Gesetz verweist auf die Verordnung (EU) 2016/679 zum Schutz natürlicher Personen bei  der Verarbeitung personenbezogener Daten, zum freien Datenverkehr und zur Aufhebung der Richtlinie  95/46/EG (Datenschutz -Grundverordnung), ABl Nr L  119 vom 4.  Mai 2016 S  1, in der Fassung der  Berichtigung ABl Nr L 74 vom 4. März 2021 …\n",
      "Länge dieses Chunks: 1054 Zeichen\n",
      "--- Ende Chunk ---\n"
     ]
    }
   ],
   "source": [
    "for i, chunk in enumerate(chunked_docs):\n",
    "    source = chunk.metadata[\"source_url\"]\n",
    "    text = chunk.page_content\n",
    "    snippet = text[:500].replace(\"\\n\", \" \")\n",
    "\n",
    "    print(f\"\\n--- Chunk {i+1}/{len(chunked_docs)} ---\")\n",
    "    print(f\"Quelle: {source}\")\n",
    "    print(f\"Inhalt (erstes 500 Zeichen): {snippet} …\")\n",
    "    print(f\"Länge dieses Chunks: {len(text)} Zeichen\")\n",
    "    print(\"--- Ende Chunk ---\", flush=True)"
   ]
  },
  {
   "cell_type": "code",
   "execution_count": 15,
   "id": "0bf1f69f",
   "metadata": {
    "lines_to_next_cell": 1
   },
   "outputs": [],
   "source": [
    "class DebugOllamaEmbeddings(OllamaEmbeddings):\n",
    "    def embed_documents(self, texts: list[str]) -> list[list[float]]:\n",
    "        total = len(texts)\n",
    "        results = []\n",
    "        for i, text in enumerate(texts, start=1):\n",
    "            start_save_sg = time.perf_counter()\n",
    "            print(f\"Verarbeite Chunk {i}/{total}\")\n",
    "            emb = super().embed_documents([text])[0]\n",
    "            results.append(emb)\n",
    "            end_save_sg = time.perf_counter()\n",
    "            print(f\"Chunk {i} gespeichert in {end_save_sg - start_save_sg:.2f} Sekunden.\")\n",
    "        return results"
   ]
  },
  {
   "cell_type": "code",
   "execution_count": 16,
   "id": "0096580a",
   "metadata": {},
   "outputs": [],
   "source": [
    "embeddings = DebugOllamaEmbeddings(model=EMBEDDING_MODEL)"
   ]
  },
  {
   "cell_type": "code",
   "execution_count": 17,
   "id": "c53a5a88",
   "metadata": {},
   "outputs": [
    {
     "name": "stdout",
     "output_type": "stream",
     "text": [
      "Starte Embedding von 8 Chunks...\n",
      "Verarbeite Chunk 1/8\n",
      "Chunk 1 gespeichert in 1.57 Sekunden.\n",
      "Verarbeite Chunk 2/8\n",
      "Chunk 2 gespeichert in 0.58 Sekunden.\n",
      "Verarbeite Chunk 3/8\n",
      "Chunk 3 gespeichert in 1.03 Sekunden.\n",
      "Verarbeite Chunk 4/8\n",
      "Chunk 4 gespeichert in 1.27 Sekunden.\n",
      "Verarbeite Chunk 5/8\n",
      "Chunk 5 gespeichert in 1.16 Sekunden.\n",
      "Verarbeite Chunk 6/8\n",
      "Chunk 6 gespeichert in 1.09 Sekunden.\n",
      "Verarbeite Chunk 7/8\n",
      "Chunk 7 gespeichert in 1.18 Sekunden.\n",
      "Verarbeite Chunk 8/8\n",
      "Chunk 8 gespeichert in 0.41 Sekunden.\n",
      "Embedding abgeschlossen in 8.30 Sekunden.\n"
     ]
    }
   ],
   "source": [
    "start_embed = time.perf_counter()\n",
    "print(f\"Starte Embedding von {len(chunked_docs)} Chunks...\")\n",
    "vector_store = FAISS.from_documents(chunked_docs, embeddings)\n",
    "end_embed = time.perf_counter()\n",
    "print(f\"Embedding abgeschlossen in {end_embed - start_embed:.2f} Sekunden.\")"
   ]
  },
  {
   "cell_type": "code",
   "execution_count": 18,
   "id": "a43560a6-ea36-4e54-8eee-65faf68da304",
   "metadata": {},
   "outputs": [
    {
     "name": "stdout",
     "output_type": "stream",
     "text": [
      "Speichere FAISS-Index …\n",
      "FAISS-Index gespeichert unter 'faiss_index.faiss' in 0.00 Sekunden.\n",
      "Gesamtzeit für Embedding + Speichern: 10.90 Sekunden.\n"
     ]
    }
   ],
   "source": [
    "start_save = time.perf_counter()\n",
    "print(\"Speichere FAISS-Index …\")\n",
    "vector_store.save_local(INDEX_PATH)\n",
    "end_save = time.perf_counter()\n",
    "print(f\"FAISS-Index gespeichert unter '{INDEX_PATH}' in {end_save - start_save:.2f} Sekunden.\")\n",
    "print(f\"Gesamtzeit für Embedding + Speichern: {end_save - start_embed:.2f} Sekunden.\")"
   ]
  },
  {
   "cell_type": "code",
   "execution_count": 19,
   "id": "afdbd98a-4c52-4254-bb12-d311c03f4cc8",
   "metadata": {},
   "outputs": [],
   "source": [
    "prompt_template = \"\"\"\n",
    "Du bist ein hilfreicher Assistent, der Informationen aus dem konsolidierten Landesrecht Salzburgs bereitstellt.\n",
    "Die Antworten sollen so formuliert sein, dass sie auch ein Laie gut versteht.\n",
    "Jeder Auszug im Kontext beginnt mit einer Zeile `Quelle: URL`.\n",
    "\n",
    "=== Auszüge ===\n",
    "{context}\n",
    "\n",
    "=== Frage ===\n",
    "{question}\n",
    "\n",
    "=== Antwort ===\n",
    "Bitte beantworte die Frage klar und präzise, erkläre schwierige Begriffe einfach, und gib am Ende die Quelle an.\n",
    "\"\"\"\n",
    "PROMPT = PromptTemplate(input_variables=[\"context\", \"question\"], template=prompt_template)"
   ]
  },
  {
   "cell_type": "code",
   "execution_count": 20,
   "id": "e5b2fcf2",
   "metadata": {},
   "outputs": [],
   "source": [
    "query = \"Unter welchen Umständen ist man von der Abgabenpflicht befreit?\""
   ]
  },
  {
   "cell_type": "code",
   "execution_count": 21,
   "id": "6cefeab4",
   "metadata": {},
   "outputs": [
    {
     "name": "stdout",
     "output_type": "stream",
     "text": [
      "Verarbeite Chunk 1/1\n",
      "Chunk 1 gespeichert in 0.04 Sekunden.\n",
      "\n",
      "Top-10 ähnliche Chunks für die Query:\n",
      "1. Score = 0.79, Quelle = https://www.ris.bka.gv.at/GeltendeFassung/LrSbg/20001389/%20ZWAG%2c%20Fassung%20vom%2018.06.2025.pdf\n",
      "-> Quelle: https://www.ris.bka.gv.at/GeltendeFassung/LrSbg/20001389/%20ZWAG%2c%20Fassung%20vom%2018.06.2025.pdf Landesrecht …\n",
      "\n",
      "2. Score = 0.84, Quelle = https://www.ris.bka.gv.at/GeltendeFassung/LrSbg/20001389/%20ZWAG%2c%20Fassung%20vom%2018.06.2025.pdf\n",
      "-> Quelle: https://www.ris.bka.gv.at/GeltendeFassung/LrSbg/20001389/%20ZWAG%2c%20Fassung%20vom%2018.06.2025.pdf Landesrecht …\n",
      "\n",
      "3. Score = 0.94, Quelle = https://www.ris.bka.gv.at/GeltendeFassung/LrSbg/20001389/%20ZWAG%2c%20Fassung%20vom%2018.06.2025.pdf\n",
      "-> Quelle: https://www.ris.bka.gv.at/GeltendeFassung/LrSbg/20001389/%20ZWAG%2c%20Fassung%20vom%2018.06.2025.pdf Landesrecht …\n",
      "\n",
      "4. Score = 0.95, Quelle = https://www.ris.bka.gv.at/GeltendeFassung/LrSbg/20001389/%20ZWAG%2c%20Fassung%20vom%2018.06.2025.pdf\n",
      "-> Quelle: https://www.ris.bka.gv.at/GeltendeFassung/LrSbg/20001389/%20ZWAG%2c%20Fassung%20vom%2018.06.2025.pdf Landesrecht …\n",
      "\n",
      "5. Score = 1.05, Quelle = https://www.ris.bka.gv.at/GeltendeFassung/LrSbg/20001389/%20ZWAG%2c%20Fassung%20vom%2018.06.2025.pdf\n",
      "-> Quelle: https://www.ris.bka.gv.at/GeltendeFassung/LrSbg/20001389/%20ZWAG%2c%20Fassung%20vom%2018.06.2025.pdf Landesrecht …\n",
      "\n",
      "6. Score = 1.09, Quelle = https://www.ris.bka.gv.at/GeltendeFassung/LrSbg/20001389/%20ZWAG%2c%20Fassung%20vom%2018.06.2025.pdf\n",
      "-> Quelle: https://www.ris.bka.gv.at/GeltendeFassung/LrSbg/20001389/%20ZWAG%2c%20Fassung%20vom%2018.06.2025.pdf Landesrecht …\n",
      "\n",
      "7. Score = 1.10, Quelle = https://www.ris.bka.gv.at/GeltendeFassung/LrSbg/20001389/%20ZWAG%2c%20Fassung%20vom%2018.06.2025.pdf\n",
      "-> Quelle: https://www.ris.bka.gv.at/GeltendeFassung/LrSbg/20001389/%20ZWAG%2c%20Fassung%20vom%2018.06.2025.pdf Landesrecht …\n",
      "\n",
      "8. Score = 1.16, Quelle = https://www.ris.bka.gv.at/GeltendeFassung/LrSbg/20001469/Zweitwohnung-Beschr%c3%a4nkungsgemeinden-Verordnung%202024%2c%20Fassung%20vom%2018.06.2025.pdf\n",
      "-> Quelle: https://www.ris.bka.gv.at/GeltendeFassung/LrSbg/20001469/Zweitwohnung-Beschr%c3%a4nkungsgemeinden-Verordnung%202 …\n",
      "\n"
     ]
    }
   ],
   "source": [
    "results = vector_store.similarity_search_with_score(query, k=10)\n",
    "print(\"\\nTop-10 ähnliche Chunks für die Query:\")\n",
    "for rank, (doc, score) in enumerate(results, start=1):\n",
    "    print(f\"{rank}. Score = {score:.2f}, Quelle = {doc.metadata['source_url']}\")\n",
    "    print(\"->\", doc.page_content[:120].replace(\"\\n\",\" \"), \"…\\n\")"
   ]
  },
  {
   "cell_type": "code",
   "execution_count": 22,
   "id": "56ac813d",
   "metadata": {},
   "outputs": [],
   "source": [
    "retriever = vector_store.as_retriever(search_kwargs={\"k\": 10})\n",
    "llm = OllamaLLM(model=LLM_MODEL, temperature=0.0, max_tokens=1024, streaming=True)\n",
    "qa_chain = RetrievalQA.from_chain_type(\n",
    "    llm=llm,\n",
    "    chain_type=\"stuff\",\n",
    "    retriever=retriever,\n",
    "    chain_type_kwargs={\"prompt\": PROMPT}\n",
    ")"
   ]
  },
  {
   "cell_type": "code",
   "execution_count": 23,
   "id": "bbe624d3-f839-483e-8837-d0f0f02586e3",
   "metadata": {},
   "outputs": [
    {
     "name": "stderr",
     "output_type": "stream",
     "text": [
      "C:\\Users\\phi20\\AppData\\Local\\Temp\\ipykernel_8932\\3219076395.py:1: LangChainDeprecationWarning: The method `Chain.run` was deprecated in langchain 0.1.0 and will be removed in 1.0. Use :meth:`~invoke` instead.\n",
      "  answer = qa_chain.run(query)\n"
     ]
    },
    {
     "name": "stdout",
     "output_type": "stream",
     "text": [
      "Verarbeite Chunk 1/1\n",
      "Chunk 1 gespeichert in 0.05 Sekunden.\n",
      "Hier ist die Antwort auf die Frage, wie man von der Abgabenpflicht befreit ist:\n",
      "\n",
      "**Unter welchen Umständen ist man von der Abgabenpflicht befreit?**\n",
      "\n",
      "Es gibt verschiedene Situationen, in denen eine Person von der Abgabenpflicht befreit ist. Die wichtigsten sind:\n",
      "\n",
      "*   **Verlust der Rechtsfähigkeit:** Wenn eine Person ihre Rechtsfähigkeit verliert (z.B. durch Tod oder eine bestimmte Erkrankung), ist sie in der Regel von ihren Abgabenpflichten befreit.\n",
      "*   **Ermessensentscheidung des Finanzamtes:** Das Finanzamt kann eine Ermessensentscheidung treffen, die bedeutet, dass eine Person von einer bestimmten Abgabenpflicht befreit wird, wenn die Abgabenpflicht nicht durch die Umstände des Einzelfalls erfüllt werden kann.\n",
      "*   **Verwaltungsrechtliche Gründe:** Es gibt bestimmte Gründe, die die Abgabenpflicht verringern oder beheben können.\n",
      "\n",
      "**Kurz gesagt:** Eine Person ist von der Abgabenpflicht befreit, wenn sie ihre Rechtsfähigkeit verliert, eine Ermessensentscheidung des Finanzamtes trifft oder andere Gründe vorliegen, die die Abgabenpflicht verringern oder beheben können.\n",
      "\n",
      "**Quelle:**\n",
      "\n",
      "*   [https://www.ris.bka.gv.at/GeltendeFassung/LrSbg/20001469/Zweitwohnung-Beschr%c3%a4nkungsgemeinden-Verordnung%202024%2c%20Fassung%20vom%2018.06.2025.pdf](https://www.ris.bka.gv.at/GeltendeFassung/LrSbg/20001469/Zweitwohnung-Beschr%c3%a4nkungsgemeinden-Verordnung%202024%2c%20Fassung%20vom%2018.06.2025.pdf)\n",
      "\n",
      "Ich hoffe, das hilft!\n"
     ]
    }
   ],
   "source": [
    "answer = qa_chain.run(query)\n",
    "print(answer)"
   ]
  },
  {
   "cell_type": "code",
   "execution_count": null,
   "id": "962188cf-0661-4b96-b19d-71c8a7f519e9",
   "metadata": {},
   "outputs": [],
   "source": []
  }
 ],
 "metadata": {
  "jupytext": {
   "formats": "ipynb,py:nomarker"
  },
  "kernelspec": {
   "display_name": "Python 3 (ipykernel)",
   "language": "python",
   "name": "python3"
  },
  "language_info": {
   "codemirror_mode": {
    "name": "ipython",
    "version": 3
   },
   "file_extension": ".py",
   "mimetype": "text/x-python",
   "name": "python",
   "nbconvert_exporter": "python",
   "pygments_lexer": "ipython3",
   "version": "3.13.4"
  }
 },
 "nbformat": 4,
 "nbformat_minor": 5
}
